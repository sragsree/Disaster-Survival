{
 "cells": [
  {
   "cell_type": "code",
   "execution_count": 6,
   "metadata": {
    "collapsed": true
   },
   "outputs": [],
   "source": [
    "import org.apache.spark.ml.feature.Bucketizer\n",
    "import org.apache.spark.sql.functions._ \n",
    "import org.apache.spark.ml.feature.StringIndexer "
   ]
  },
  {
   "cell_type": "markdown",
   "metadata": {},
   "source": [
    "## Data processing"
   ]
  },
  {
   "cell_type": "code",
   "execution_count": 7,
   "metadata": {},
   "outputs": [
    {
     "name": "stdout",
     "output_type": "stream",
     "text": [
      "root\n",
      " |-- _c0: integer (nullable = true)\n",
      " |-- dvcat: string (nullable = true)\n",
      " |-- weight: double (nullable = true)\n",
      " |-- dead: string (nullable = true)\n",
      " |-- airbag: string (nullable = true)\n",
      " |-- seatbelt: string (nullable = true)\n",
      " |-- frontal: integer (nullable = true)\n",
      " |-- sex: string (nullable = true)\n",
      " |-- ageOFocc: integer (nullable = true)\n",
      " |-- yearacc: integer (nullable = true)\n",
      " |-- yearVeh: string (nullable = true)\n",
      " |-- abcat: string (nullable = true)\n",
      " |-- occRole: string (nullable = true)\n",
      " |-- deploy: integer (nullable = true)\n",
      " |-- injSeverity: string (nullable = true)\n",
      " |-- caseid: string (nullable = true)\n",
      "\n"
     ]
    }
   ],
   "source": [
    "val dataFile = \"nassCDS.csv\"\n",
    "val reader = spark.read\n",
    "reader.option(\"header\", true)\n",
    "reader.option(\"inferSchema\",true)\n",
    "reader.option(\"sep\",\",\")\n",
    "val data = reader.csv(dataFile)\n",
    "data.printSchema\n"
   ]
  },
  {
   "cell_type": "markdown",
   "metadata": {},
   "source": [
    "## Accidents By Speed"
   ]
  },
  {
   "cell_type": "code",
   "execution_count": 8,
   "metadata": {},
   "outputs": [
    {
     "name": "stdout",
     "output_type": "stream",
     "text": [
      "+-------+---------------------------+\n",
      "|  dvcat|sum(count(DISTINCT caseid))|\n",
      "+-------+---------------------------+\n",
      "|  10-24|                      10112|\n",
      "|1-9km/h|                        536|\n",
      "|  25-39|                       6446|\n",
      "|  40-54|                       2371|\n",
      "|    55+|                       1205|\n",
      "+-------+---------------------------+\n",
      "\n"
     ]
    }
   ],
   "source": [
    "val accidentsBySpeed= data.groupBy(col(\"dvcat\"),col(\"yearacc\")).agg(countDistinct(\"caseid\")).as(\"No of accidents\")\n",
    "accidentsBySpeed.groupBy(col(\"dvcat\")).agg(sum(\"count(DISTINCT caseid)\")).show"
   ]
  },
  {
   "cell_type": "markdown",
   "metadata": {},
   "source": [
    "Analysis: \n",
    "---------------\n",
    " At lower speeds more accidents are recorded"
   ]
  },
  {
   "cell_type": "markdown",
   "metadata": {},
   "source": [
    "## Injury Risk based on Speeds"
   ]
  },
  {
   "cell_type": "code",
   "execution_count": 9,
   "metadata": {},
   "outputs": [
    {
     "name": "stdout",
     "output_type": "stream",
     "text": [
      "+-------+-----------+------------------+\n",
      "|  dvcat|injSeverity|count(injSeverity)|\n",
      "+-------+-----------+------------------+\n",
      "|1-9km/h|          0|               366|\n",
      "|1-9km/h|          1|               144|\n",
      "|1-9km/h|          2|                65|\n",
      "|1-9km/h|          3|                90|\n",
      "|1-9km/h|          4|                 4|\n",
      "|1-9km/h|          5|                 7|\n",
      "|  10-24|          0|              4530|\n",
      "|  10-24|          1|              3377|\n",
      "|  10-24|          2|              1863|\n",
      "|  10-24|          3|              2817|\n",
      "|  10-24|          4|               111|\n",
      "|  10-24|          5|                68|\n",
      "|  10-24|          6|                 1|\n",
      "|  25-39|          0|              1365|\n",
      "|  25-39|          1|              1642|\n",
      "|  25-39|          2|              1623|\n",
      "|  25-39|          3|              3220|\n",
      "|  25-39|          4|               278|\n",
      "|  25-39|          5|                36|\n",
      "|  25-39|          6|                 1|\n",
      "+-------+-----------+------------------+\n",
      "only showing top 20 rows\n",
      "\n"
     ]
    }
   ],
   "source": [
    "val injuryRisk=data.groupBy(col(\"dvcat\"),col(\"injSeverity\")).agg(count(col(\"injSeverity\"))).where(col(\"injSeverity\")!==\"NA\").sort(col(\"dvcat\"),col(\"injSeverity\"))\n",
    "injuryRisk.show"
   ]
  },
  {
   "cell_type": "markdown",
   "metadata": {},
   "source": [
    "Analysis:\n",
    "-----------------\n",
    "1. From the table above this we saw that accidents are more at lower speeds but now from this table we can clearly see that the injury severity is very less for the lower speeds below 20 kmph.\n",
    "2. Also,From the table above this we saw that accidents are less at higher speeds but now from this table we can clearly see that the injury severity is more for the higher speeds above 20 kmph.\n",
    "\n",
    "As the speed increases, injurity severity levels kept increasing"
   ]
  },
  {
   "cell_type": "markdown",
   "metadata": {},
   "source": [
    "### Survival Rate based on Age"
   ]
  },
  {
   "cell_type": "code",
   "execution_count": 10,
   "metadata": {},
   "outputs": [
    {
     "name": "stdout",
     "output_type": "stream",
     "text": [
      "+------------+------------------------------+---------------+-----------------------+\n",
      "|    ageGroup|No of Passengers in Each group|No of Survivors|Percentage of Sirvivors|\n",
      "+------------+------------------------------+---------------+-----------------------+\n",
      "| [15.0-20.0)|                          4163|           4035|      96.92529425894787|\n",
      "| [20.0-25.0)|                          4107|           3963|      96.49379108838568|\n",
      "| [25.0-30.0)|                          3033|           2929|       96.5710517639301|\n",
      "| [30.0-35.0)|                          2568|           2475|       96.3785046728972|\n",
      "| [35.0-40.0)|                          2474|           2376|      96.03880355699272|\n",
      "| [40.0-45.0)|                          2167|           2079|      95.93908629441624|\n",
      "| [45.0-50.0)|                          1776|           1684|      94.81981981981981|\n",
      "| [50.0-55.0)|                          1409|           1351|      95.88360539389637|\n",
      "| [55.0-60.0)|                          1004|            942|      93.82470119521912|\n",
      "| [60.0-65.0)|                           795|            741|      93.20754716981132|\n",
      "| [65.0-70.0)|                           673|            635|      94.35364041604755|\n",
      "| [70.0-75.0)|                           726|            646|      88.98071625344353|\n",
      "| [75.0-80.0)|                           622|            578|      92.92604501607717|\n",
      "| [80.0-85.0)|                           440|            391|      88.86363636363636|\n",
      "| [85.0-90.0)|                           210|            171|      81.42857142857143|\n",
      "| [90.0-95.0)|                            39|             31|      79.48717948717949|\n",
      "|[95.0-100.0)|                            11|             10|       90.9090909090909|\n",
      "+------------+------------------------------+---------------+-----------------------+\n",
      "\n"
     ]
    },
    {
     "data": {
      "text/plain": [
       "0.0898135301590321"
      ]
     },
     "execution_count": 10,
     "metadata": {},
     "output_type": "execute_result"
    }
   ],
   "source": [
    "import org.apache.spark.ml.feature.Bucketizer\n",
    "import org.apache.spark.sql.functions._ \n",
    "import org.apache.spark.ml.feature.StringIndexer \n",
    "\n",
    "val dataNew = data.select(\"ageOFocc\",\"dead\")\n",
    "\n",
    "val splits = (0 to 20).map(_ * 5.0).toArray\n",
    "\n",
    "val bucketizer = new Bucketizer().setInputCol(\"ageOFocc\").setOutputCol(\"ageRange\").setSplits(splits)\n",
    "\n",
    "val bucketed = bucketizer.transform(data)\n",
    "\n",
    "val multiply: Double => Double = (_*5.0)\n",
    "val add: Double => Double = (_+5.0)\n",
    "val higher: Double => String = _.toString()\n",
    "val higherUDF = udf(higher)\n",
    "val upperUDF = udf(multiply)\n",
    "val lowerUDF=udf(add)\n",
    "val makeSIfTesla = udf {(make: String,made: String) => \n",
    "   \"[\"+make+\"-\"+made+\")\"\n",
    "}\n",
    "\n",
    "val exp2=bucketed.groupBy(col(\"dead\"),col(\"ageRange\")).agg(count(col(\"ageOFocc\")).as(\"No of Survivors\")).sort(\"ageRange\")          \n",
    "\n",
    "\n",
    "val exp4=exp2.withColumn(\"ageGroup\", makeSIfTesla(higherUDF(upperUDF(bucketed(\"ageRange\"))),higherUDF(lowerUDF(upperUDF(bucketed(\"ageRange\"))))))\n",
    "\n",
    "val exp3= exp4.groupBy(col(\"ageRange\")).agg(sum(col(\"No of Survivors\")).as(\"No of Passengers in Each group\"))\n",
    "\n",
    "val df = exp4.join(exp3, exp2.col(\"ageRange\") === exp3.col(\"ageRange\"))\n",
    "\n",
    "val answer=df.withColumn(\"Percentage of Sirvivors\",col(\"No of Survivors\")*100/col(\"No of Passengers in Each group\")).where(col(\"dead\")===\"alive\")\n",
    "answer.select(col(\"ageGroup\"),col(\"No of Passengers in Each group\"),col(\"No of Survivors\"),col(\"Percentage of Sirvivors\")).show\n",
    "\n",
    "val nameCleaned = dataNew.na.drop(\"any\",Seq(\"ageOFocc\"))\n",
    "val SurvivedInd = new StringIndexer().setInputCol(\"dead\").setOutputCol(\"deadIndex\")\n",
    "val indexed = SurvivedInd.fit(nameCleaned).transform(nameCleaned)\n",
    "\n",
    "indexed.stat.corr(\"ageOFocc\",\"deadIndex\")"
   ]
  },
  {
   "cell_type": "markdown",
   "metadata": {},
   "source": [
    "Analysis:  \n",
    "--------------------------\n",
    "The correlation between the age and deadIndex is almost zero but we can notice from the statistics that there is minute effect of age on the survival of passengers. As the age increases, we can see that the survival rate decreased a bit.\n"
   ]
  },
  {
   "cell_type": "markdown",
   "metadata": {},
   "source": [
    "## Accidents By Year"
   ]
  },
  {
   "cell_type": "code",
   "execution_count": 20,
   "metadata": {},
   "outputs": [
    {
     "name": "stdout",
     "output_type": "stream",
     "text": [
      "+-------+-------------+\n",
      "|yearacc|count(caseid)|\n",
      "+-------+-------------+\n",
      "|   1997|         3128|\n",
      "|   1998|         3483|\n",
      "|   2001|         3238|\n",
      "|   2000|         3488|\n",
      "|   1999|         3565|\n",
      "|   2002|         3768|\n",
      "+-------+-------------+\n",
      "\n"
     ]
    }
   ],
   "source": [
    "import org.apache.spark.ml.feature.Bucketizer\n",
    "import org.apache.spark.sql.functions._ \n",
    "import org.apache.spark.ml.feature.StringIndexer \n",
    "val accidentsByYear= data.groupBy(col(\"caseid\"),col(\"yearacc\")).agg(countDistinct(\"caseid\")).as(\"No of accidents per year\")\n",
    "\n",
    "\n",
    "accidentsByYear.groupBy(\"yearacc\").agg(count(col(\"caseid\"))).show"
   ]
  },
  {
   "cell_type": "markdown",
   "metadata": {},
   "source": [
    "Analysis:\n",
    "-----------------\n",
    "For the given data,We can clearly see the increase in the accidents with each passing year. But before concluding the given point we need to some additional information like\n",
    "1. what is the total of the vehicles on road for each year from 1997 to 2002\n",
    "2. Clear fraction of vehicles that are met with accidents over the number of vehicles\n",
    "\n",
    "So,we cannot say the accidents are increasing with each passing year as we dont know the accident count over the number of vehicles. we can get the perfect analysis if we have additional data\n"
   ]
  },
  {
   "cell_type": "markdown",
   "metadata": {},
   "source": [
    "## Injurity Severity Comparision For Driver and Passenger"
   ]
  },
  {
   "cell_type": "code",
   "execution_count": 21,
   "metadata": {},
   "outputs": [
    {
     "name": "stdout",
     "output_type": "stream",
     "text": [
      "+-------+-----------+--------------+\n",
      "|occRole|injSeverity|count(occRole)|\n",
      "+-------+-----------+--------------+\n",
      "| driver|          0|          5183|\n",
      "| driver|          1|          4363|\n",
      "| driver|          2|          3254|\n",
      "| driver|          3|          6785|\n",
      "| driver|          4|           854|\n",
      "| driver|          5|           101|\n",
      "| driver|          6|             2|\n",
      "|   pass|          0|          1296|\n",
      "|   pass|          1|          1232|\n",
      "|   pass|          2|           988|\n",
      "|   pass|          3|          1710|\n",
      "|   pass|          4|           264|\n",
      "|   pass|          5|            32|\n",
      "+-------+-----------+--------------+\n",
      "\n"
     ]
    }
   ],
   "source": [
    "var injuritySeverityForDriverPass=data.groupBy(col(\"occRole\"),col(\"injSeverity\")).agg(count(\"occRole\")).sort(col(\"occRole\"),col(\"injSeverity\"))\n",
    "injuritySeverityForDriverPass.select(\"occRole\",\"injSeverity\",\"count(occRole)\").where(col(\"injSeverity\") !== \"NA\").show"
   ]
  },
  {
   "cell_type": "markdown",
   "metadata": {},
   "source": [
    "Analysis:\n",
    "----------------\n",
    "Drivers are more injured in the accidents than the passengers."
   ]
  },
  {
   "cell_type": "markdown",
   "metadata": {},
   "source": [
    "## Survival Rate by Sex"
   ]
  },
  {
   "cell_type": "code",
   "execution_count": 22,
   "metadata": {},
   "outputs": [
    {
     "name": "stdout",
     "output_type": "stream",
     "text": [
      "+---+-----+-----------+---+----------+------------------+\n",
      "|sex| dead|count(dead)|sex|count(sex)|        Percentage|\n",
      "+---+-----+-----------+---+----------+------------------+\n",
      "|  f| dead|        464|  f|     12248|3.7883736120182885|\n",
      "|  f|alive|      11784|  f|     12248| 96.21162638798171|\n",
      "|  m| dead|        716|  m|     13969| 5.125635335385496|\n",
      "|  m|alive|      13253|  m|     13969|  94.8743646646145|\n",
      "+---+-----+-----------+---+----------+------------------+\n",
      "\n"
     ]
    }
   ],
   "source": [
    "val survivalRateBysex=data.groupBy(col(\"sex\"),col(\"dead\")).agg(count(col(\"dead\")))\n",
    "val percentage=data.groupBy(\"sex\").agg(count(\"sex\"))\n",
    "\n",
    "val join=survivalRateBysex.join(percentage,percentage.col(\"sex\") === survivalRateBysex.col(\"sex\"))\n",
    "join.withColumn(\"Percentage\",col(\"count(dead)\")*100/col(\"count(sex)\")).show\n"
   ]
  },
  {
   "cell_type": "markdown",
   "metadata": {},
   "source": [
    "Analysis\n",
    "-------------\n",
    "There is not much relation between the sex and the survival rate. It is almost negligable but by ignoring the no of male drivers and female drivers on roads, we can say that the Male are more involved in accidents than the female.\n"
   ]
  },
  {
   "cell_type": "markdown",
   "metadata": {},
   "source": [
    "## Effect of seatbelt on survival rate"
   ]
  },
  {
   "cell_type": "code",
   "execution_count": 23,
   "metadata": {},
   "outputs": [
    {
     "name": "stdout",
     "output_type": "stream",
     "text": [
      "+--------+-----+---------------+\n",
      "|seatBelt| dead|count(seatBelt)|\n",
      "+--------+-----+---------------+\n",
      "|    none| dead|            680|\n",
      "|  belted| dead|            500|\n",
      "|  belted|alive|          18073|\n",
      "|    none|alive|           6964|\n",
      "+--------+-----+---------------+\n",
      "\n"
     ]
    }
   ],
   "source": [
    "val seatBeltEffect=data.groupBy(col(\"seatBelt\"),col(\"dead\")).agg(count(col(\"seatBelt\")))\n",
    "seatBeltEffect.show\n"
   ]
  },
  {
   "cell_type": "markdown",
   "metadata": {},
   "source": [
    "Analysis\n",
    "--------------\n",
    "The table above show statistics for the effect of speed on the survival of the passengers. \n",
    "1. Drivers with seat belts, with and without air bags, have significantly lower injury risk than drivers without seatbelts who are unrestrained  or no lap belt. \n",
    "2. Drivers with no seat belt have significantly higher injury risk than all other restraints with a non-significant difference from drivers with no restraint."
   ]
  },
  {
   "cell_type": "markdown",
   "metadata": {},
   "source": [
    "## Effect of airbag and speed on survival rate"
   ]
  },
  {
   "cell_type": "code",
   "execution_count": 24,
   "metadata": {},
   "outputs": [
    {
     "name": "stdout",
     "output_type": "stream",
     "text": [
      "+------+-----+-------+-----------+\n",
      "|airbag| dead|  dvcat|count(dead)|\n",
      "+------+-----+-------+-----------+\n",
      "|airbag|alive|1-9km/h|        457|\n",
      "|  none|alive|1-9km/h|        226|\n",
      "|airbag| dead|1-9km/h|          3|\n",
      "|airbag|alive|  10-24|       7747|\n",
      "|airbag| dead|  10-24|         63|\n",
      "|  none|alive|  10-24|       4987|\n",
      "|  none| dead|  10-24|         51|\n",
      "|  none|alive|  25-39|       3857|\n",
      "|airbag| dead|  25-39|        130|\n",
      "|  none| dead|  25-39|        174|\n",
      "|airbag|alive|  25-39|       4053|\n",
      "|airbag|alive|  40-54|       1208|\n",
      "|airbag| dead|  40-54|        147|\n",
      "|  none| dead|  40-54|        197|\n",
      "|  none|alive|  40-54|       1425|\n",
      "|airbag| dead|    55+|        168|\n",
      "|  none|alive|    55+|        634|\n",
      "|airbag|alive|    55+|        443|\n",
      "|  none| dead|    55+|        247|\n",
      "+------+-----+-------+-----------+\n",
      "\n"
     ]
    }
   ],
   "source": [
    "val airBagEffect=data.groupBy(col(\"airbag\"),col(\"dead\"),col(\"dvcat\")).agg(count(col(\"dead\"))).sort(col(\"dvcat\"))\n",
    "airBagEffect.show"
   ]
  },
  {
   "cell_type": "markdown",
   "metadata": {},
   "source": [
    "Analysis\n",
    "------------\n",
    "The table above show that the stats for the effect of speed on the survival of the passengers. \n",
    "1. Below 20 mph drivers, with and without air bags, have significantly lower injury risk than drivers with air bags or no restraint with all other comparisons not significantly different. \n",
    "2. Above 20 mph drivers, with and without air bags, have significantly lower injury risk compared to other drivers. "
   ]
  },
  {
   "cell_type": "markdown",
   "metadata": {},
   "source": [
    "## Effect of airbag on survival rate"
   ]
  },
  {
   "cell_type": "code",
   "execution_count": 25,
   "metadata": {},
   "outputs": [
    {
     "name": "stdout",
     "output_type": "stream",
     "text": [
      "+------+-----+-------------+\n",
      "|airbag| dead|count(airbag)|\n",
      "+------+-----+-------------+\n",
      "|airbag| dead|          511|\n",
      "|airbag|alive|        13908|\n",
      "|  none| dead|          669|\n",
      "|  none|alive|        11129|\n",
      "+------+-----+-------------+\n",
      "\n"
     ]
    }
   ],
   "source": [
    "val airbagEffect=data.groupBy(col(\"airbag\"),col(\"dead\")).agg(count(col(\"airbag\")))\n",
    "airbagEffect.show"
   ]
  },
  {
   "cell_type": "markdown",
   "metadata": {},
   "source": [
    "Analysis:\n",
    "---------------\n",
    "1. The benefits of the airbags is not consistent for the NASSCDS data over certain ranges\n",
    "2. For lower speeds, airbags has no identifiable benefit\n",
    "3. For Higher Speeds,airbags is a has good benefit\n"
   ]
  },
  {
   "cell_type": "markdown",
   "metadata": {},
   "source": [
    "## Frontal Effect"
   ]
  },
  {
   "cell_type": "code",
   "execution_count": 26,
   "metadata": {},
   "outputs": [
    {
     "name": "stdout",
     "output_type": "stream",
     "text": [
      "+-------+-------+-----------+------------------+\n",
      "|frontal|occRole|injSeverity|count(injSeverity)|\n",
      "+-------+-------+-----------+------------------+\n",
      "|      0| driver|          0|              1720|\n",
      "|      0| driver|          1|              1602|\n",
      "|      0| driver|          2|               988|\n",
      "|      0| driver|          3|              2398|\n",
      "|      0| driver|          4|               404|\n",
      "|      0| driver|          5|                36|\n",
      "|      1| driver|          0|              3463|\n",
      "|      1| driver|          1|              2761|\n",
      "|      1| driver|          2|              2266|\n",
      "|      1| driver|          3|              4387|\n",
      "|      1| driver|          4|               450|\n",
      "|      1| driver|          5|                65|\n",
      "|      1| driver|          6|                 2|\n",
      "+-------+-------+-----------+------------------+\n",
      "\n"
     ]
    }
   ],
   "source": [
    "val frontalEffect=data.groupBy(col(\"frontal\"),col(\"occRole\"),col(\"injSeverity\")).agg(count(col(\"injSeverity\"))).where(col(\"injSeverity\") !== \"NA\").where(col(\"occRole\") === \"driver\").sort(col(\"frontal\"),col(\"injSeverity\"))\n",
    "frontalEffect.show"
   ]
  },
  {
   "cell_type": "markdown",
   "metadata": {},
   "source": [
    "Analysis\n",
    "------------------------------\n",
    "From the above data we can clearly see that the drivers in frontals are more prone to higher injurity severity. The injury severity level 3 is very high for the driver in frontals"
   ]
  },
  {
   "cell_type": "markdown",
   "metadata": {},
   "source": [
    "Future Work\n",
    "-------------------\n",
    "Our analysis is based on whatever is provided in dataset from NASS CDS but addition of following features would help in appropriate analysis\n",
    "1. New data elements such as accidents from which direction(front,rear,right,left) to improve safety conterparts\n",
    "2. More details on vehicle types such as motorcycles, medium and heavy trucks, motorcoaches, bicyclists, school buses, and low-speed vehicles.\n",
    "3. No of vehicles on road per year data helps us to get more detailed analysis on increase/decrease of the accidents\n",
    "4. More information about advanced vehicle technologies."
   ]
  }
 ],
 "metadata": {
  "kernelspec": {
   "display_name": "Apache Toree - Scala",
   "language": "scala",
   "name": "apache_toree_scala"
  },
  "language_info": {
   "file_extension": ".scala",
   "name": "scala",
   "version": "2.11.8"
  }
 },
 "nbformat": 4,
 "nbformat_minor": 2
}
